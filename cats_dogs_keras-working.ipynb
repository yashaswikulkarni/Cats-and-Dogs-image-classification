{
 "cells": [
  {
   "cell_type": "code",
   "execution_count": 1,
   "metadata": {},
   "outputs": [
    {
     "name": "stdout",
     "output_type": "stream",
     "text": [
      "Requirement already satisfied: tensorflow in c:\\users\\yashaswi\\anaconda\\lib\\site-packages (1.10.0)\n",
      "Requirement already satisfied: protobuf>=3.6.0 in c:\\users\\yashaswi\\anaconda\\lib\\site-packages (from tensorflow) (3.6.1)\n",
      "Requirement already satisfied: grpcio>=1.8.6 in c:\\users\\yashaswi\\anaconda\\lib\\site-packages (from tensorflow) (1.14.2)\n",
      "Requirement already satisfied: wheel>=0.26 in c:\\users\\yashaswi\\anaconda\\lib\\site-packages (from tensorflow) (0.31.1)\n",
      "Requirement already satisfied: tensorboard<1.11.0,>=1.10.0 in c:\\users\\yashaswi\\anaconda\\lib\\site-packages (from tensorflow) (1.10.0)\n",
      "Requirement already satisfied: termcolor>=1.1.0 in c:\\users\\yashaswi\\anaconda\\lib\\site-packages (from tensorflow) (1.1.0)\n",
      "Requirement already satisfied: astor>=0.6.0 in c:\\users\\yashaswi\\anaconda\\lib\\site-packages (from tensorflow) (0.7.1)\n",
      "Requirement already satisfied: numpy<=1.14.5,>=1.13.3 in c:\\users\\yashaswi\\anaconda\\lib\\site-packages (from tensorflow) (1.14.3)\n",
      "Requirement already satisfied: six>=1.10.0 in c:\\users\\yashaswi\\anaconda\\lib\\site-packages (from tensorflow) (1.11.0)\n",
      "Requirement already satisfied: absl-py>=0.1.6 in c:\\users\\yashaswi\\anaconda\\lib\\site-packages (from tensorflow) (0.4.1)\n",
      "Requirement already satisfied: setuptools<=39.1.0 in c:\\users\\yashaswi\\anaconda\\lib\\site-packages (from tensorflow) (39.1.0)\n",
      "Requirement already satisfied: gast>=0.2.0 in c:\\users\\yashaswi\\anaconda\\lib\\site-packages (from tensorflow) (0.2.0)\n",
      "Requirement already satisfied: markdown>=2.6.8 in c:\\users\\yashaswi\\anaconda\\lib\\site-packages (from tensorboard<1.11.0,>=1.10.0->tensorflow) (2.6.11)\n",
      "Requirement already satisfied: werkzeug>=0.11.10 in c:\\users\\yashaswi\\anaconda\\lib\\site-packages (from tensorboard<1.11.0,>=1.10.0->tensorflow) (0.14.1)\n"
     ]
    }
   ],
   "source": [
    "!pip install tensorflow"
   ]
  },
  {
   "cell_type": "code",
   "execution_count": 2,
   "metadata": {},
   "outputs": [
    {
     "name": "stdout",
     "output_type": "stream",
     "text": [
      "Requirement already satisfied: keras in c:\\users\\yashaswi\\anaconda\\lib\\site-packages (2.2.2)\n",
      "Requirement already satisfied: h5py in c:\\users\\yashaswi\\anaconda\\lib\\site-packages (from keras) (2.7.1)\n",
      "Requirement already satisfied: numpy>=1.9.1 in c:\\users\\yashaswi\\anaconda\\lib\\site-packages (from keras) (1.14.3)\n",
      "Requirement already satisfied: keras-preprocessing==1.0.2 in c:\\users\\yashaswi\\anaconda\\lib\\site-packages (from keras) (1.0.2)\n",
      "Requirement already satisfied: pyyaml in c:\\users\\yashaswi\\anaconda\\lib\\site-packages (from keras) (3.12)\n",
      "Requirement already satisfied: six>=1.9.0 in c:\\users\\yashaswi\\anaconda\\lib\\site-packages (from keras) (1.11.0)\n",
      "Requirement already satisfied: scipy>=0.14 in c:\\users\\yashaswi\\anaconda\\lib\\site-packages (from keras) (1.1.0)\n",
      "Requirement already satisfied: keras-applications==1.0.4 in c:\\users\\yashaswi\\anaconda\\lib\\site-packages (from keras) (1.0.4)\n"
     ]
    }
   ],
   "source": [
    "!pip install keras"
   ]
  },
  {
   "cell_type": "code",
   "execution_count": 25,
   "metadata": {},
   "outputs": [],
   "source": [
    "from keras.preprocessing.image import ImageDataGenerator\n",
    "\n",
    "datagen = ImageDataGenerator(\n",
    "        rotation_range=40,\n",
    "        width_shift_range=0.2,\n",
    "        height_shift_range=0.2,\n",
    "        rescale=1./255,\n",
    "        shear_range=0.2,\n",
    "        zoom_range=0.2,\n",
    "        horizontal_flip=True,\n",
    "        fill_mode='nearest')"
   ]
  },
  {
   "cell_type": "code",
   "execution_count": 26,
   "metadata": {},
   "outputs": [],
   "source": [
    "from keras.preprocessing.image import ImageDataGenerator, array_to_img, img_to_array, load_img\n",
    "\n",
    "img = load_img('/Users/Yashaswi/Downloads/cats_dogs/train/dogs/dog.100.jpg')  # this is a PIL image\n",
    "x = img_to_array(img)  # this is a Numpy array with shape (3, 150, 150)\n",
    "x = x.reshape((1,) + x.shape)  # this is a Numpy array with shape (1, 3, 150, 150)\n",
    "\n",
    "# the .flow() command below generates batches of randomly transformed images\n",
    "# and saves the results to the `preview/` directory\n",
    "i = 0\n",
    "for batch in datagen.flow(x, batch_size=1,\n",
    "                          save_to_dir='/Users/Yashaswi/Downloads/preview', save_prefix='cat', save_format='jpeg'):\n",
    "    i += 1\n",
    "    if i > 20:\n",
    "        break  # otherwise the generator would loop indefinitely"
   ]
  },
  {
   "cell_type": "code",
   "execution_count": 27,
   "metadata": {},
   "outputs": [],
   "source": [
    "from keras.models import Sequential\n",
    "from keras.layers import Conv2D, MaxPooling2D\n",
    "from keras.layers import Activation, Dropout, Flatten, Dense\n",
    "\n",
    "model = Sequential()\n",
    "model.add(Conv2D(32, (3, 3), input_shape=(150, 150,3)))\n",
    "model.add(Activation('relu'))\n",
    "model.add(MaxPooling2D(pool_size=(2, 2)))\n",
    "\n",
    "model.add(Conv2D(32, (3, 3)))\n",
    "model.add(Activation('relu'))\n",
    "model.add(MaxPooling2D(pool_size=(2, 2)))\n",
    "\n",
    "model.add(Conv2D(64, (3, 3)))\n",
    "model.add(Activation('relu'))\n",
    "model.add(MaxPooling2D(pool_size=(2, 2)))\n",
    "\n",
    "# the model so far outputs 3D feature maps (height, width, features)"
   ]
  },
  {
   "cell_type": "code",
   "execution_count": 28,
   "metadata": {},
   "outputs": [],
   "source": [
    "model.add(Flatten())  # this converts our 3D feature maps to 1D feature vectors\n",
    "model.add(Dense(64))\n",
    "model.add(Activation('relu'))\n",
    "model.add(Dropout(0.5))\n",
    "model.add(Dense(1))\n",
    "model.add(Activation('sigmoid'))\n",
    "\n",
    "model.compile(loss='binary_crossentropy',\n",
    "              optimizer='rmsprop',\n",
    "              metrics=['accuracy'])"
   ]
  },
  {
   "cell_type": "code",
   "execution_count": 29,
   "metadata": {},
   "outputs": [
    {
     "name": "stdout",
     "output_type": "stream",
     "text": [
      "Found 1602 images belonging to 2 classes.\n",
      "Found 400 images belonging to 2 classes.\n"
     ]
    }
   ],
   "source": [
    "batch_size = 16\n",
    "\n",
    "# this is the augmentation configuration we will use for training\n",
    "train_datagen = ImageDataGenerator(\n",
    "        rescale=1./255,\n",
    "        shear_range=0.2,\n",
    "        zoom_range=0.2,\n",
    "        horizontal_flip=True)\n",
    "\n",
    "# this is the augmentation configuration we will use for testing:\n",
    "# only rescaling\n",
    "test_datagen = ImageDataGenerator(rescale=1./255)\n",
    "\n",
    "# this is a generator that will read pictures found in\n",
    "# subfolers of 'data/train', and indefinitely generate\n",
    "# batches of augmented image data\n",
    "train_generator = train_datagen.flow_from_directory(\n",
    "        '/Users/Yashaswi/Downloads/cats_dogs/train',  # this is the target directory\n",
    "        target_size=(150, 150),  # all images will be resized to 150x150\n",
    "        batch_size=batch_size,\n",
    "        class_mode='binary')  # since we use binary_crossentropy loss, we need binary labels\n",
    "\n",
    "# this is a similar generator, for validation data\n",
    "validation_generator = test_datagen.flow_from_directory(\n",
    "        '/Users/Yashaswi/Downloads/cats_dogs/validation',\n",
    "        target_size=(150, 150),\n",
    "        batch_size=batch_size,\n",
    "        class_mode='binary')"
   ]
  },
  {
   "cell_type": "code",
   "execution_count": 30,
   "metadata": {},
   "outputs": [
    {
     "name": "stdout",
     "output_type": "stream",
     "text": [
      "Epoch 1/5\n",
      "125/125 [==============================] - 111s 888ms/step - loss: 0.7080 - acc: 0.5285 - val_loss: 0.6826 - val_acc: 0.5000\n",
      "Epoch 2/5\n",
      "125/125 [==============================] - 100s 797ms/step - loss: 0.6747 - acc: 0.6115 - val_loss: 0.6488 - val_acc: 0.6425\n",
      "Epoch 3/5\n",
      "125/125 [==============================] - 105s 844ms/step - loss: 0.6329 - acc: 0.6580 - val_loss: 0.5975 - val_acc: 0.6725\n",
      "Epoch 4/5\n",
      "125/125 [==============================] - 129s 1s/step - loss: 0.5926 - acc: 0.6820 - val_loss: 0.6213 - val_acc: 0.6475\n",
      "Epoch 5/5\n",
      "125/125 [==============================] - 121s 972ms/step - loss: 0.5961 - acc: 0.6995 - val_loss: 0.6239 - val_acc: 0.6425\n"
     ]
    }
   ],
   "source": [
    "model.fit_generator(\n",
    "        train_generator,\n",
    "        steps_per_epoch=2000 // batch_size,\n",
    "        epochs=5,\n",
    "        validation_data=validation_generator,\n",
    "        validation_steps=800 // batch_size)\n",
    "model.save_weights('first_try2.h5')  # always save your weights after training or during training"
   ]
  },
  {
   "cell_type": "code",
   "execution_count": 9,
   "metadata": {},
   "outputs": [],
   "source": [
    "#model.load_weights('first_try.h5')"
   ]
  },
  {
   "cell_type": "code",
   "execution_count": 41,
   "metadata": {},
   "outputs": [],
   "source": [
    "img = load_img('/Users/Yashaswi/Downloads/cat_image.jpg')  # this is a PIL image\n",
    "x = img_to_array(img.resize([150,150]))  # this is a Numpy array with shape (3, 150, 150)\n",
    "x = x.reshape((1,) + x.shape)  # this is a Numpy array with shape (1, 3, 150, 150)\n"
   ]
  },
  {
   "cell_type": "code",
   "execution_count": 42,
   "metadata": {},
   "outputs": [
    {
     "data": {
      "image/png": "[encoded data removed]",
      "text/plain": [
       "<PIL.JpegImagePlugin.JpegImageFile image mode=RGB size=182x121 at 0x21403434C18>"
      ]
     },
     "execution_count": 42,
     "metadata": {},
     "output_type": "execute_result"
    }
   ],
   "source": [
    "img"
   ]
  },
  {
   "cell_type": "code",
   "execution_count": 43,
   "metadata": {},
   "outputs": [
    {
     "name": "stdout",
     "output_type": "stream",
     "text": [
      "It is a Cat\n"
     ]
    }
   ],
   "source": [
    "if (model.predict_classes(x)==1):\n",
    "    print (\"It is a DOG\")\n",
    "else:\n",
    "    print (\"It is a Cat\")\n",
    "\n"
   ]
  },
  {
   "cell_type": "code",
   "execution_count": 37,
   "metadata": {},
   "outputs": [
    {
     "data": {
      "text/plain": [
       "array([[1]])"
      ]
     },
     "execution_count": 37,
     "metadata": {},
     "output_type": "execute_result"
    }
   ],
   "source": [
    "model.predict_classes(x)"
   ]
  },
  {
   "cell_type": "code",
   "execution_count": null,
   "metadata": {},
   "outputs": [],
   "source": []
  }
 ],
 "metadata": {
  "kernelspec": {
   "display_name": "Python 3",
   "language": "python",
   "name": "python3"
  },
  "language_info": {
   "codemirror_mode": {
    "name": "ipython",
    "version": 3
   },
   "file_extension": ".py",
   "mimetype": "text/x-python",
   "name": "python",
   "nbconvert_exporter": "python",
   "pygments_lexer": "ipython3",
   "version": "3.6.5"
  }
 },
 "nbformat": 4,
 "nbformat_minor": 2
}
